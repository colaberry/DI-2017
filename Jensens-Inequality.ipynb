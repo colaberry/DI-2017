{
 "cells": [
  {
   "cell_type": "markdown",
   "metadata": {},
   "source": [
    "# Jensens Inequality\n",
    "\n",
    "Theorem: Given f, a convex function, and X a random variable, then\n",
    "$$ E[f(X)] ≥ f(E[X]) $$\n",
    "\n",
    "If f is strictly convex, then $E[f(X)] = f(E[X])$ holds true if and\n",
    "only if X = E[X] with probability 1 which implies X is a constant.\n",
    "\n",
    "Let us consider a strictly convex function such as a parabolic function as shown below:\n",
    "\n",
    "$$ y = x^2 $$"
   ]
  },
  {
   "cell_type": "code",
   "execution_count": 28,
   "metadata": {
    "collapsed": false
   },
   "outputs": [],
   "source": [
    "%matplotlib inline\n",
    "from scipy import stats, integrate\n",
    "\n",
    "import numpy as np\n",
    "import scipy\n",
    "import pandas as pd\n",
    "import matplotlib.pyplot as plt\n",
    "import seaborn as sns\n",
    "\n",
    "pd.set_option('display.width', 500)\n",
    "pd.set_option('display.max_columns', 200)"
   ]
  },
  {
   "cell_type": "markdown",
   "metadata": {},
   "source": [
    "## Strictly Convex Region"
   ]
  },
  {
   "cell_type": "code",
   "execution_count": 29,
   "metadata": {
    "collapsed": false
   },
   "outputs": [
    {
     "data": {
      "image/png": "[encoded data removed]",
      "text/plain": [
       "<matplotlib.figure.Figure at 0x1154034a8>"
      ]
     },
     "metadata": {},
     "output_type": "display_data"
    }
   ],
   "source": [
    "x = np.arange(-10, 11, 1)\n",
    "y = np.square(x)\n",
    "sns.set_style(\"darkgrid\")\n",
    "plt.plot(x, y)\n",
    "plt.show()"
   ]
  },
  {
   "cell_type": "markdown",
   "metadata": {},
   "source": [
    "## Expected value of a continuous function of a random variable\n",
    "\n",
    "Let us look at a uniform random variable X where the function on the variable is a convex function. The expected value of a function can be derived adn it results in:\n",
    "\n",
    "$$E[f(X)] = \\frac{X^3}{3}(0.05)|_a^b $$\n",
    "$$E[f(X)] = (\\frac{b^3}{3} - \\frac{a^3}{3})\\times 0.1$$\n",
    "\n",
    "Let us now plot this random variable."
   ]
  },
  {
   "cell_type": "markdown",
   "metadata": {},
   "source": [
    "## Uniform Random Variable"
   ]
  },
  {
   "cell_type": "code",
   "execution_count": 30,
   "metadata": {
    "collapsed": false
   },
   "outputs": [
    {
     "name": "stderr",
     "output_type": "stream",
     "text": [
      "/Users/harishkashyap/anaconda/lib/python3.6/site-packages/matplotlib/axes/_axes.py:6198: RuntimeWarning: invalid value encountered in true_divide\n",
      "  m = (m.astype(float) / db) / m.sum()\n",
      "/Users/harishkashyap/anaconda/lib/python3.6/site-packages/statsmodels/nonparametric/kdetools.py:20: VisibleDeprecationWarning: using a non-integer number instead of an integer will result in an error in the future\n",
      "  y = X[:m/2+1] + np.r_[0,X[m/2+1:],0]*1j\n"
     ]
    },
    {
     "data": {
      "image/png": "[encoded data removed]",
      "text/plain": [
       "<matplotlib.figure.Figure at 0x1159c2f28>"
      ]
     },
     "metadata": {},
     "output_type": "display_data"
    }
   ],
   "source": [
    "X = np.random.uniform(low = -10, high = 10)\n",
    "\n",
    "(mu, sigma) = stats.uniform.fit(X)\n",
    "\n",
    "plt.ylabel('Frequency')\n",
    "\n",
    "x_dummy = np.linspace(-10, 10, 500)\n",
    "g = sns.distplot(x_dummy, stats.uniform.pdf(x_dummy, mu, sigma))"
   ]
  },
  {
   "cell_type": "markdown",
   "metadata": {},
   "source": [
    "## Compare $E[f(X)]$ and $E[X]$\n",
    "\n",
    "Let us consider a subset of values in X and compute te e"
   ]
  },
  {
   "cell_type": "code",
   "execution_count": 55,
   "metadata": {
    "collapsed": false
   },
   "outputs": [
    {
     "name": "stdout",
     "output_type": "stream",
     "text": [
      "Random Variable X [-10  -9  -8  -7  -6  -5  -4  -3  -2  -1   0   1   2   3   4   5   6   7\n",
      "   8   9  10]\n",
      "0.5 887.0\n",
      "1.0 842.233333333\n",
      "1.5 797.7\n",
      "2.0 753.133333333\n",
      "2.5 708.533333333\n",
      "3.0 663.9\n",
      "3.5 619.5\n",
      "4.0 575.066666667\n",
      "4.5 530.6\n",
      "5.0 486.1\n",
      "5.5 441.833333333\n",
      "6.0 397.533333333\n",
      "6.5 353.2\n",
      "7.0 308.833333333\n",
      "7.5 264.7\n",
      "8.0 220.533333333\n",
      "8.5 176.333333333\n",
      "9.0 132.1\n",
      "9.5 88.1\n",
      "10.0 44.0666666667\n"
     ]
    }
   ],
   "source": [
    "x = np.arange(-10, 11, 1)\n",
    "y = np.square(x)\n",
    "\n",
    "print(\"Random Variable X\", x)\n",
    "    \n",
    "for j in range(1, len(x)):\n",
    "    e_fx = e_x = 0\n",
    "    n_x = len(x[j:])\n",
    "\n",
    "    for i in x[j:]:\n",
    "        e_fx = e_fx + ((1331.0/3) - (i^3)/3)*0.1\n",
    "        e_x = e_x + i\n",
    "    \n",
    "    e_x = e_x/n_x\n",
    "    print(e_x, e_fx)"
   ]
  },
  {
   "cell_type": "markdown",
   "metadata": {},
   "source": [
    "From the above list of $E[X]$ and $E[f(X)]$ you can observe that $E[f(X)] \\ge E[X]$"
   ]
  }
 ],
 "metadata": {
  "kernelspec": {
   "display_name": "Python 3",
   "language": "python",
   "name": "python3"
  },
  "language_info": {
   "codemirror_mode": {
    "name": "ipython",
    "version": 3
   },
   "file_extension": ".py",
   "mimetype": "text/x-python",
   "name": "python",
   "nbconvert_exporter": "python",
   "pygments_lexer": "ipython3",
   "version": "3.6.0"
  }
 },
 "nbformat": 4,
 "nbformat_minor": 2
}
