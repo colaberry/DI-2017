{
 "cells": [
  {
   "cell_type": "markdown",
   "metadata": {},
   "source": [
    "# 1: The Data Story\n",
    "\n",
    "## 1.1: Clean and Messy Data\n",
    "\n",
    "Here are a few examples of what kinds of data we encounter:\n",
    "<br/>\n",
    "<img style='float: left;' src='https://s3.amazonaws.com/rfjh/media/CKEditorImages/2017/06/15/400px-DBSCAN-density-data.svg.png'/><img style='float: left;' src='https://s3.amazonaws.com/rfjh/media/CKEditorImages/2017/06/15/372px-EM-density-data.svg.png'/>\n",
    "<img style='float: left;' src='https://s3.amazonaws.com/rfjh/media/CKEditorImages/2017/06/15/3dplot_EhHDHNH.png'/><img src='https://s3.amazonaws.com/rfjh/media/CKEditorImages/2017/06/15/text_DjMDlWe.png'/>\n",
    "\n",
    "\n",
    "<br/><br/>\n",
    "## Exercise:\n",
    "\n",
    "What type of variations in the data do you see? What types of datasets do you observe?\n",
    "\n",
    "- click on the run button to continue with the workshop.\n"
   ]
  },
  {
   "cell_type": "code",
   "execution_count": 1,
   "metadata": {
    "collapsed": true
   },
   "outputs": [],
   "source": [
    "# Clean & The Messy Data\n",
    "# This section will contain code examples that you can run to generate results as well as quizzes."
   ]
  },
  {
   "cell_type": "markdown",
   "metadata": {},
   "source": [
    "\n",
    "<br/><br/><br/>\n",
    "## 1.2: Clustering - The Right Way\n",
    "\n",
    "Here is a list of Points of Interest in Venice as seen on a map:\n",
    "<br/>\n",
    "\n",
    "<img style='float: left;' src='https://s3.amazonaws.com/rfjh/media/CKEditorImages/2017/06/16/image_1-1.png'/>\n",
    "\n",
    "\n",
    "<br/><br/><br/><br/><br/><br/><br/><br/><br/><br/><br/><br/><br/><br/><br/><br/><br/><br/><br/><br/><br/><br/>\n",
    "## Exercise:\n",
    "\n",
    "- To see the clustering done the right way click on next."
   ]
  },
  {
   "cell_type": "markdown",
   "metadata": {
    "collapsed": true
   },
   "source": [
    "\n",
    "<img style='float: left;' src='images/places.png'/>"
   ]
  },
  {
   "cell_type": "markdown",
   "metadata": {},
   "source": [
    "\n",
    "<br/><br/><br/>\n",
    "## 1.3: Clustering - The Wrong Way\n",
    "\n",
    "Here is an image of 4 inter-leaved regions that we shall attempt to cluster. \n",
    "\n",
    "\n",
    "## Exercise:\n",
    "\n",
    "Here, we have applied a clustering algorithm that doesnt quite work in getting us back the regions. \n",
    "\n",
    "- Continue to the next section."
   ]
  },
  {
   "cell_type": "markdown",
   "metadata": {
    "collapsed": true
   },
   "source": [
    "<img style='float: left;' src='images/12-clusters.png'/>"
   ]
  }
 ],
 "metadata": {
  "kernelspec": {
   "display_name": "Python 3",
   "language": "python",
   "name": "python3"
  },
  "language_info": {
   "codemirror_mode": {
    "name": "ipython",
    "version": 3
   },
   "file_extension": ".py",
   "mimetype": "text/x-python",
   "name": "python",
   "nbconvert_exporter": "python",
   "pygments_lexer": "ipython3",
   "version": "3.6.0"
  }
 },
 "nbformat": 4,
 "nbformat_minor": 2
}
